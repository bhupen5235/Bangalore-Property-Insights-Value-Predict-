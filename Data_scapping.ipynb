{
 "cells": [
  {
   "cell_type": "code",
   "execution_count": 17,
   "metadata": {},
   "outputs": [],
   "source": [
    "from selenium import webdriver\n",
    "import time\n",
    "import pandas as pd\n",
    "from selenium.webdriver.support.ui import WebDriverWait\n",
    "from selenium.webdriver.common.by import By\n",
    "from selenium import webdriver\n",
    "from selenium.webdriver.chrome.service import Service\n",
    "import requests\n",
    "from selenium.webdriver.support import expected_conditions as EC"
   ]
  },
  {
   "cell_type": "code",
   "execution_count": 18,
   "metadata": {},
   "outputs": [
    {
     "data": {
      "text/plain": [
       "<Response [200]>"
      ]
     },
     "execution_count": 18,
     "metadata": {},
     "output_type": "execute_result"
    }
   ],
   "source": [
    "link=\"https://www.makaan.com/\"\n",
    "requests.get(link)"
   ]
  },
  {
   "cell_type": "code",
   "execution_count": 19,
   "metadata": {},
   "outputs": [],
   "source": [
    "s = Service(r\"C:\\Users\\bhupe\\Downloads\\chromedriver-win32\\chromedriver-win32\\chromedriver.exe\")\n",
    "driver = webdriver.Chrome(service=s)\n",
    "driver.maximize_window()\n",
    "driver.get(link)\n"
   ]
  },
  {
   "cell_type": "code",
   "execution_count": 20,
   "metadata": {},
   "outputs": [
    {
     "name": "stdout",
     "output_type": "stream",
     "text": [
      "No of pages available--2163\n"
     ]
    }
   ],
   "source": [
    "search_bar_xpath = \"/html/body/div[1]/main/div/section[1]/div[1]/div/div[3]/div[1]/div/div/div/div[2]/input\"\n",
    "search_bar = driver.find_element(By.XPATH, search_bar_xpath)\n",
    "search_bar.send_keys(\"Bangalore\")\n",
    "\n",
    "result_row_class = \"result-row\"\n",
    "# Wait for the \"result-row\" element to be clickable and then click it\n",
    "result_row = WebDriverWait(driver, 5).until(EC.element_to_be_clickable((By.CLASS_NAME, result_row_class)))\n",
    "result_row.click()\n",
    "\n",
    "search_button_xpath = \"/html/body/div[1]/main/div/section[1]/div[1]/div/div[3]/div[3]/span[2]\"\n",
    "search_button = WebDriverWait(driver, 5).until(EC.visibility_of_element_located((By.XPATH, search_button_xpath)))\n",
    "search_button.click()\n",
    "\n",
    "# Wait for the \"page numbers\" element to be visible and then extract the number of pages\n",
    "driver.execute_script(\"window.scrollTo(0, document.body.scrollHeight);\")\n",
    "\n",
    "page_numbers_xpath = \"/html/body/div[1]/main/div/div/div[2]/div/div[2]/div/div[3]/div[1]/div/ul/li[7]/a\"\n",
    "page_numbers_element = WebDriverWait(driver, 5).until(EC.visibility_of_element_located((By.XPATH, page_numbers_xpath)))\n",
    "pages = int(page_numbers_element.text)\n",
    "print(f'No of pages available--{pages}')"
   ]
  },
  {
   "cell_type": "code",
   "execution_count": 21,
   "metadata": {},
   "outputs": [],
   "source": [
    "dic={\"property\":[],\"location\":[],\"price\":[],\"area\":[],\"furnished status\":[],\"additional details\":[]}"
   ]
  },
  {
   "cell_type": "code",
   "execution_count": null,
   "metadata": {},
   "outputs": [],
   "source": [
    "for page in range(1,pages):\n",
    "    if page % 50 == 0:\n",
    "        time.sleep(30)\n",
    "\n",
    "    driver.get(f\"https://www.makaan.com/bangalore-residential-property/buy-property-in-bangalore-city?page={page}&_=1725726991020\")\n",
    "    driver.execute_script(\"window.scrollTo(0, document.body.scrollHeight);\")\n",
    "    \n",
    "    listings = driver.find_elements(By.CLASS_NAME, \"cardholder\")  # Assuming \"cardholder\" is a class that encapsulates each listing\n",
    "\n",
    "    for listing in listings:\n",
    "        try:\n",
    "            location = listing.find_element(By.CLASS_NAME, \"loclink\").text\n",
    "        except:\n",
    "            location = \"NULL\"\n",
    "        \n",
    "        try:\n",
    "            property_name = listing.find_element(By.CLASS_NAME, \"title-line\").text\n",
    "        except:\n",
    "            property_name = \"NULL\"\n",
    "        \n",
    "        try:\n",
    "            price = listing.find_element(By.CLASS_NAME, \"price\").text\n",
    "        except:\n",
    "            price = \"NULL\"\n",
    "        \n",
    "        try:\n",
    "            area = listing.find_element(By.CLASS_NAME, \"size\").text\n",
    "        except:\n",
    "            area = \"NULL\"\n",
    "        \n",
    "        try:\n",
    "            furnished_status = listing.find_element(By.CLASS_NAME, \"hcol.w44\").text\n",
    "        except:\n",
    "            furnished_status = \"NULL\"\n",
    "        \n",
    "        try:\n",
    "            additional_details = listing.find_element(By.CLASS_NAME, \"listing-details\").text\n",
    "        except:\n",
    "            additional_details = \"NULL\"\n",
    "\n",
    "        # Append all values to the dictionary\n",
    "        dic[\"location\"].append(location)\n",
    "        dic[\"property\"].append(property_name)\n",
    "        dic[\"price\"].append(price)\n",
    "        dic[\"area\"].append(area)\n",
    "        dic[\"furnished status\"].append(furnished_status)\n",
    "        dic[\"additional details\"].append(additional_details)\n",
    "\n",
    "    # Save to CSV when the data reaches 5000 entries\n",
    "        if len(dic[\"location\"]) == 5000:\n",
    "            i=1\n",
    "            file = pd.DataFrame(dic)\n",
    "            print(f'-----------FILE ::: {i}--{5000*i} <-- Data Extracted')\n",
    "            print(file.head())\n",
    "            file.to_csv(f\"makan{i}.csv\", index=False)\n",
    "            dic = {\"property\": [], \"location\": [], \"price\": [], \"area\": [], \"furnished status\": [], \"additional details\": []}\n"
   ]
  },
  {
   "cell_type": "code",
   "execution_count": null,
   "metadata": {},
   "outputs": [],
   "source": []
  }
 ],
 "metadata": {
  "kernelspec": {
   "display_name": "Python 3",
   "language": "python",
   "name": "python3"
  },
  "language_info": {
   "codemirror_mode": {
    "name": "ipython",
    "version": 3
   },
   "file_extension": ".py",
   "mimetype": "text/x-python",
   "name": "python",
   "nbconvert_exporter": "python",
   "pygments_lexer": "ipython3",
   "version": "3.12.3"
  }
 },
 "nbformat": 4,
 "nbformat_minor": 2
}
