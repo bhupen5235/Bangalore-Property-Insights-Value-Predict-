{
 "cells": [
  {
   "cell_type": "code",
   "execution_count": 19,
   "metadata": {},
   "outputs": [],
   "source": [
    "#Required Liberaries\n",
    "import pandas as pd\n",
    "import numpy as np\n"
   ]
  },
  {
   "cell_type": "code",
   "execution_count": 20,
   "metadata": {},
   "outputs": [],
   "source": [
    "#Loading Scrapped Data\n",
    "df1=pd.read_csv(r'C:\\Users\\bhupe\\Downloads\\makan1.csv')\n",
    "df2=pd.read_csv(r\"C:\\Users\\bhupe\\Downloads\\makan2.csv\")\n",
    "df3=pd.read_csv(r\"C:\\Users\\bhupe\\Downloads\\makan3.csv\")\n",
    "df4=pd.read_csv(r\"C:\\Users\\bhupe\\Downloads\\makan4.csv\")\n",
    "df5=pd.read_csv(r\"C:\\Users\\bhupe\\Downloads\\makan5.csv\")\n",
    "df6=pd.read_csv(r\"C:\\Users\\bhupe\\Downloads\\makan6.csv\")\n",
    "df7=pd.read_csv(r\"C:\\Users\\bhupe\\Downloads\\makan7.csv\")\n",
    "df8=pd.read_csv(r\"C:\\Users\\bhupe\\Downloads\\makan8.csv\")\n",
    "df9=pd.read_csv(r\"C:\\Users\\bhupe\\Downloads\\makan9.csv\")\n"
   ]
  },
  {
   "cell_type": "code",
   "execution_count": 21,
   "metadata": {},
   "outputs": [
    {
     "name": "stdout",
     "output_type": "stream",
     "text": [
      "df1-- (2980, 7)\n",
      "df2-- (8420, 7)\n",
      "df3-- (5000, 7)\n",
      "df4-- (5000, 7)\n",
      "df5-- (440, 7)\n",
      "df6-- (960, 7)\n",
      "df7-- (480, 7)\n",
      "df8-- (820, 7)\n",
      "df9-- (660, 7)\n"
     ]
    }
   ],
   "source": [
    "# look at shape of all scrapped data\n",
    "print(\"df1--\",df1.shape)\n",
    "print(\"df2--\",df2.shape)\n",
    "print(\"df3--\",df3.shape)\n",
    "print(\"df4--\",df4.shape)\n",
    "print(\"df5--\",df5.shape)\n",
    "print(\"df6--\",df6.shape)\n",
    "print(\"df7--\",df7.shape)\n",
    "print(\"df8--\",df8.shape)\n",
    "print(\"df9--\",df9.shape)\n"
   ]
  },
  {
   "cell_type": "markdown",
   "metadata": {},
   "source": [
    "Concate Dataframes"
   ]
  },
  {
   "cell_type": "code",
   "execution_count": 22,
   "metadata": {},
   "outputs": [
    {
     "name": "stdout",
     "output_type": "stream",
     "text": [
      "size of Data Frame after concatination--(24760, 7)\n"
     ]
    }
   ],
   "source": [
    "dataframes=[df1,df2,df3,df4,df5,df6,df7,df8,df9]\n",
    "df=pd.concat(dataframes)\n",
    "df.to_csv(\"concated.csv\")\n",
    "print(f'size of Data Frame after concatination--{df.shape}')"
   ]
  },
  {
   "cell_type": "markdown",
   "metadata": {},
   "source": [
    "Data Frame Correction"
   ]
  },
  {
   "cell_type": "code",
   "execution_count": 23,
   "metadata": {},
   "outputs": [
    {
     "data": {
      "text/html": [
       "<div>\n",
       "<style scoped>\n",
       "    .dataframe tbody tr th:only-of-type {\n",
       "        vertical-align: middle;\n",
       "    }\n",
       "\n",
       "    .dataframe tbody tr th {\n",
       "        vertical-align: top;\n",
       "    }\n",
       "\n",
       "    .dataframe thead th {\n",
       "        text-align: right;\n",
       "    }\n",
       "</style>\n",
       "<table border=\"1\" class=\"dataframe\">\n",
       "  <thead>\n",
       "    <tr style=\"text-align: right;\">\n",
       "      <th></th>\n",
       "      <th>Unnamed: 0</th>\n",
       "      <th>property</th>\n",
       "      <th>location</th>\n",
       "      <th>price</th>\n",
       "      <th>area</th>\n",
       "      <th>furnished status</th>\n",
       "      <th>additional details</th>\n",
       "    </tr>\n",
       "  </thead>\n",
       "  <tbody>\n",
       "    <tr>\n",
       "      <th>0</th>\n",
       "      <td>0</td>\n",
       "      <td>5 BHK Apartment in Keya Life By The Lake</td>\n",
       "      <td>Jakkur, Bangalore</td>\n",
       "      <td>5.29 Cr</td>\n",
       "      <td>4520</td>\n",
       "      <td>Ready to move Construction Status</td>\n",
       "      <td>2 - 3 years oldNew</td>\n",
       "    </tr>\n",
       "    <tr>\n",
       "      <th>1</th>\n",
       "      <td>1</td>\n",
       "      <td>2 BHK Apartment in Mantri Serenity</td>\n",
       "      <td>Subramanyapura, Bangalore</td>\n",
       "      <td>94.93 L</td>\n",
       "      <td>1040</td>\n",
       "      <td>Ready to move Construction Status</td>\n",
       "      <td>2 - 3 years oldNew</td>\n",
       "    </tr>\n",
       "    <tr>\n",
       "      <th>2</th>\n",
       "      <td>2</td>\n",
       "      <td>Residential Plot in Vinyasa Greenland</td>\n",
       "      <td>Bidadi, Bangalore</td>\n",
       "      <td>28.63 L</td>\n",
       "      <td>1146</td>\n",
       "      <td>New New/Resale</td>\n",
       "      <td>0 - 1 year old</td>\n",
       "    </tr>\n",
       "    <tr>\n",
       "      <th>3</th>\n",
       "      <td>3</td>\n",
       "      <td>2 BHK Apartment in Ma Sarada Upavan</td>\n",
       "      <td>Bommasandra, Bangalore</td>\n",
       "      <td>63.93 L</td>\n",
       "      <td>870</td>\n",
       "      <td>Under Construction Construction Status</td>\n",
       "      <td>Possession by Aug 2024New</td>\n",
       "    </tr>\n",
       "    <tr>\n",
       "      <th>4</th>\n",
       "      <td>4</td>\n",
       "      <td>2 BHK Apartment in Elegant Tranquility</td>\n",
       "      <td>Rajarajeshwari Nagar, Bangalore</td>\n",
       "      <td>95.21 L</td>\n",
       "      <td>1045</td>\n",
       "      <td>Under Construction Construction Status</td>\n",
       "      <td>Possession by Jul 2025New</td>\n",
       "    </tr>\n",
       "  </tbody>\n",
       "</table>\n",
       "</div>"
      ],
      "text/plain": [
       "   Unnamed: 0                                  property  \\\n",
       "0           0  5 BHK Apartment in Keya Life By The Lake   \n",
       "1           1        2 BHK Apartment in Mantri Serenity   \n",
       "2           2     Residential Plot in Vinyasa Greenland   \n",
       "3           3       2 BHK Apartment in Ma Sarada Upavan   \n",
       "4           4    2 BHK Apartment in Elegant Tranquility   \n",
       "\n",
       "                          location    price  area  \\\n",
       "0                Jakkur, Bangalore  5.29 Cr  4520   \n",
       "1        Subramanyapura, Bangalore  94.93 L  1040   \n",
       "2                Bidadi, Bangalore  28.63 L  1146   \n",
       "3           Bommasandra, Bangalore  63.93 L   870   \n",
       "4  Rajarajeshwari Nagar, Bangalore  95.21 L  1045   \n",
       "\n",
       "                         furnished status         additional details  \n",
       "0       Ready to move Construction Status         2 - 3 years oldNew  \n",
       "1       Ready to move Construction Status         2 - 3 years oldNew  \n",
       "2                          New New/Resale             0 - 1 year old  \n",
       "3  Under Construction Construction Status  Possession by Aug 2024New  \n",
       "4  Under Construction Construction Status  Possession by Jul 2025New  "
      ]
     },
     "execution_count": 23,
     "metadata": {},
     "output_type": "execute_result"
    }
   ],
   "source": [
    "df.head()"
   ]
  },
  {
   "cell_type": "code",
   "execution_count": 24,
   "metadata": {},
   "outputs": [
    {
     "data": {
      "text/html": [
       "<div>\n",
       "<style scoped>\n",
       "    .dataframe tbody tr th:only-of-type {\n",
       "        vertical-align: middle;\n",
       "    }\n",
       "\n",
       "    .dataframe tbody tr th {\n",
       "        vertical-align: top;\n",
       "    }\n",
       "\n",
       "    .dataframe thead th {\n",
       "        text-align: right;\n",
       "    }\n",
       "</style>\n",
       "<table border=\"1\" class=\"dataframe\">\n",
       "  <thead>\n",
       "    <tr style=\"text-align: right;\">\n",
       "      <th></th>\n",
       "      <th>property</th>\n",
       "      <th>location</th>\n",
       "      <th>price</th>\n",
       "      <th>area</th>\n",
       "      <th>furnished status</th>\n",
       "      <th>additional details</th>\n",
       "    </tr>\n",
       "  </thead>\n",
       "  <tbody>\n",
       "    <tr>\n",
       "      <th>0</th>\n",
       "      <td>5 BHK Apartment in Keya Life By The Lake</td>\n",
       "      <td>Jakkur, Bangalore</td>\n",
       "      <td>5.29 Cr</td>\n",
       "      <td>4520</td>\n",
       "      <td>Ready to move Construction Status</td>\n",
       "      <td>2 - 3 years oldNew</td>\n",
       "    </tr>\n",
       "    <tr>\n",
       "      <th>1</th>\n",
       "      <td>2 BHK Apartment in Mantri Serenity</td>\n",
       "      <td>Subramanyapura, Bangalore</td>\n",
       "      <td>94.93 L</td>\n",
       "      <td>1040</td>\n",
       "      <td>Ready to move Construction Status</td>\n",
       "      <td>2 - 3 years oldNew</td>\n",
       "    </tr>\n",
       "    <tr>\n",
       "      <th>2</th>\n",
       "      <td>Residential Plot in Vinyasa Greenland</td>\n",
       "      <td>Bidadi, Bangalore</td>\n",
       "      <td>28.63 L</td>\n",
       "      <td>1146</td>\n",
       "      <td>New New/Resale</td>\n",
       "      <td>0 - 1 year old</td>\n",
       "    </tr>\n",
       "    <tr>\n",
       "      <th>3</th>\n",
       "      <td>2 BHK Apartment in Ma Sarada Upavan</td>\n",
       "      <td>Bommasandra, Bangalore</td>\n",
       "      <td>63.93 L</td>\n",
       "      <td>870</td>\n",
       "      <td>Under Construction Construction Status</td>\n",
       "      <td>Possession by Aug 2024New</td>\n",
       "    </tr>\n",
       "    <tr>\n",
       "      <th>4</th>\n",
       "      <td>2 BHK Apartment in Elegant Tranquility</td>\n",
       "      <td>Rajarajeshwari Nagar, Bangalore</td>\n",
       "      <td>95.21 L</td>\n",
       "      <td>1045</td>\n",
       "      <td>Under Construction Construction Status</td>\n",
       "      <td>Possession by Jul 2025New</td>\n",
       "    </tr>\n",
       "  </tbody>\n",
       "</table>\n",
       "</div>"
      ],
      "text/plain": [
       "                                   property                         location  \\\n",
       "0  5 BHK Apartment in Keya Life By The Lake                Jakkur, Bangalore   \n",
       "1        2 BHK Apartment in Mantri Serenity        Subramanyapura, Bangalore   \n",
       "2     Residential Plot in Vinyasa Greenland                Bidadi, Bangalore   \n",
       "3       2 BHK Apartment in Ma Sarada Upavan           Bommasandra, Bangalore   \n",
       "4    2 BHK Apartment in Elegant Tranquility  Rajarajeshwari Nagar, Bangalore   \n",
       "\n",
       "     price  area                        furnished status  \\\n",
       "0  5.29 Cr  4520       Ready to move Construction Status   \n",
       "1  94.93 L  1040       Ready to move Construction Status   \n",
       "2  28.63 L  1146                          New New/Resale   \n",
       "3  63.93 L   870  Under Construction Construction Status   \n",
       "4  95.21 L  1045  Under Construction Construction Status   \n",
       "\n",
       "          additional details  \n",
       "0         2 - 3 years oldNew  \n",
       "1         2 - 3 years oldNew  \n",
       "2             0 - 1 year old  \n",
       "3  Possession by Aug 2024New  \n",
       "4  Possession by Jul 2025New  "
      ]
     },
     "execution_count": 24,
     "metadata": {},
     "output_type": "execute_result"
    }
   ],
   "source": [
    "df=df.iloc[:,1:]\n",
    "df.head()"
   ]
  },
  {
   "cell_type": "code",
   "execution_count": 25,
   "metadata": {},
   "outputs": [
    {
     "data": {
      "text/html": [
       "<div>\n",
       "<style scoped>\n",
       "    .dataframe tbody tr th:only-of-type {\n",
       "        vertical-align: middle;\n",
       "    }\n",
       "\n",
       "    .dataframe tbody tr th {\n",
       "        vertical-align: top;\n",
       "    }\n",
       "\n",
       "    .dataframe thead th {\n",
       "        text-align: right;\n",
       "    }\n",
       "</style>\n",
       "<table border=\"1\" class=\"dataframe\">\n",
       "  <thead>\n",
       "    <tr style=\"text-align: right;\">\n",
       "      <th></th>\n",
       "      <th>Property</th>\n",
       "      <th>Locality</th>\n",
       "      <th>Price</th>\n",
       "      <th>Area(Sq.ft)</th>\n",
       "      <th>Status</th>\n",
       "      <th>Details</th>\n",
       "    </tr>\n",
       "  </thead>\n",
       "  <tbody>\n",
       "    <tr>\n",
       "      <th>0</th>\n",
       "      <td>5 BHK Apartment in Keya Life By The Lake</td>\n",
       "      <td>Jakkur, Bangalore</td>\n",
       "      <td>5.29 Cr</td>\n",
       "      <td>4520</td>\n",
       "      <td>Ready to move Construction Status</td>\n",
       "      <td>2 - 3 years oldNew</td>\n",
       "    </tr>\n",
       "    <tr>\n",
       "      <th>1</th>\n",
       "      <td>2 BHK Apartment in Mantri Serenity</td>\n",
       "      <td>Subramanyapura, Bangalore</td>\n",
       "      <td>94.93 L</td>\n",
       "      <td>1040</td>\n",
       "      <td>Ready to move Construction Status</td>\n",
       "      <td>2 - 3 years oldNew</td>\n",
       "    </tr>\n",
       "    <tr>\n",
       "      <th>2</th>\n",
       "      <td>Residential Plot in Vinyasa Greenland</td>\n",
       "      <td>Bidadi, Bangalore</td>\n",
       "      <td>28.63 L</td>\n",
       "      <td>1146</td>\n",
       "      <td>New New/Resale</td>\n",
       "      <td>0 - 1 year old</td>\n",
       "    </tr>\n",
       "    <tr>\n",
       "      <th>3</th>\n",
       "      <td>2 BHK Apartment in Ma Sarada Upavan</td>\n",
       "      <td>Bommasandra, Bangalore</td>\n",
       "      <td>63.93 L</td>\n",
       "      <td>870</td>\n",
       "      <td>Under Construction Construction Status</td>\n",
       "      <td>Possession by Aug 2024New</td>\n",
       "    </tr>\n",
       "    <tr>\n",
       "      <th>4</th>\n",
       "      <td>2 BHK Apartment in Elegant Tranquility</td>\n",
       "      <td>Rajarajeshwari Nagar, Bangalore</td>\n",
       "      <td>95.21 L</td>\n",
       "      <td>1045</td>\n",
       "      <td>Under Construction Construction Status</td>\n",
       "      <td>Possession by Jul 2025New</td>\n",
       "    </tr>\n",
       "  </tbody>\n",
       "</table>\n",
       "</div>"
      ],
      "text/plain": [
       "                                   Property                         Locality  \\\n",
       "0  5 BHK Apartment in Keya Life By The Lake                Jakkur, Bangalore   \n",
       "1        2 BHK Apartment in Mantri Serenity        Subramanyapura, Bangalore   \n",
       "2     Residential Plot in Vinyasa Greenland                Bidadi, Bangalore   \n",
       "3       2 BHK Apartment in Ma Sarada Upavan           Bommasandra, Bangalore   \n",
       "4    2 BHK Apartment in Elegant Tranquility  Rajarajeshwari Nagar, Bangalore   \n",
       "\n",
       "     Price  Area(Sq.ft)                                  Status  \\\n",
       "0  5.29 Cr         4520       Ready to move Construction Status   \n",
       "1  94.93 L         1040       Ready to move Construction Status   \n",
       "2  28.63 L         1146                          New New/Resale   \n",
       "3  63.93 L          870  Under Construction Construction Status   \n",
       "4  95.21 L         1045  Under Construction Construction Status   \n",
       "\n",
       "                     Details  \n",
       "0         2 - 3 years oldNew  \n",
       "1         2 - 3 years oldNew  \n",
       "2             0 - 1 year old  \n",
       "3  Possession by Aug 2024New  \n",
       "4  Possession by Jul 2025New  "
      ]
     },
     "execution_count": 25,
     "metadata": {},
     "output_type": "execute_result"
    }
   ],
   "source": [
    "# Renaming Columns \n",
    "df.rename(columns={'property': 'Property',\n",
    "                   'location': 'Locality',\n",
    "                   'price': 'Price',\n",
    "                   'area': 'Area(Sq.ft)',\n",
    "                   'furnished status': 'Status',\n",
    "                   'additional details': 'Details'}, \n",
    "          inplace=True)\n",
    "\n",
    "df.head()"
   ]
  },
  {
   "cell_type": "code",
   "execution_count": 26,
   "metadata": {},
   "outputs": [
    {
     "name": "stdout",
     "output_type": "stream",
     "text": [
      "<class 'pandas.core.frame.DataFrame'>\n",
      "Index: 24760 entries, 0 to 659\n",
      "Data columns (total 6 columns):\n",
      " #   Column       Non-Null Count  Dtype \n",
      "---  ------       --------------  ----- \n",
      " 0   Property     24760 non-null  object\n",
      " 1   Locality     24760 non-null  object\n",
      " 2   Price        24760 non-null  object\n",
      " 3   Area(Sq.ft)  24760 non-null  int64 \n",
      " 4   Status       24760 non-null  object\n",
      " 5   Details      24621 non-null  object\n",
      "dtypes: int64(1), object(5)\n",
      "memory usage: 1.3+ MB\n"
     ]
    }
   ],
   "source": [
    "df.info()"
   ]
  },
  {
   "cell_type": "markdown",
   "metadata": {},
   "source": [
    "\"Price\" Column Cleaning"
   ]
  },
  {
   "cell_type": "code",
   "execution_count": 27,
   "metadata": {},
   "outputs": [],
   "source": [
    "# Function to convert Price into numbers(int)\n",
    "def convert_price(value):\n",
    "    if 'L' in value:\n",
    "        value=value.replace('L', '')\n",
    "        return float(value) * 100000  # Convert Lakhs to actual number\n",
    "    elif 'Cr' in value:\n",
    "        value=value.replace('Cr', '')\n",
    "        return float(value) * 10000000  # Convert Crores to actual number\n",
    "    else:\n",
    "        return float(value)"
   ]
  },
  {
   "cell_type": "code",
   "execution_count": 28,
   "metadata": {},
   "outputs": [],
   "source": [
    "df[\"Price\"]=df[\"Price\"].apply(convert_price)"
   ]
  },
  {
   "cell_type": "code",
   "execution_count": 29,
   "metadata": {},
   "outputs": [
    {
     "data": {
      "text/plain": [
       "0      52900000.0\n",
       "1       9493000.0\n",
       "2       2863000.0\n",
       "3       6393000.0\n",
       "4       9521000.0\n",
       "          ...    \n",
       "655    16700000.0\n",
       "656    11800000.0\n",
       "657    18100000.0\n",
       "658    13100000.0\n",
       "659    16800000.0\n",
       "Name: Price, Length: 24760, dtype: float64"
      ]
     },
     "execution_count": 29,
     "metadata": {},
     "output_type": "execute_result"
    }
   ],
   "source": [
    "df[\"Price\"]"
   ]
  },
  {
   "cell_type": "markdown",
   "metadata": {},
   "source": [
    "\"Status\" column cleaning"
   ]
  },
  {
   "cell_type": "code",
   "execution_count": 30,
   "metadata": {},
   "outputs": [
    {
     "data": {
      "text/html": [
       "<div>\n",
       "<style scoped>\n",
       "    .dataframe tbody tr th:only-of-type {\n",
       "        vertical-align: middle;\n",
       "    }\n",
       "\n",
       "    .dataframe tbody tr th {\n",
       "        vertical-align: top;\n",
       "    }\n",
       "\n",
       "    .dataframe thead th {\n",
       "        text-align: right;\n",
       "    }\n",
       "</style>\n",
       "<table border=\"1\" class=\"dataframe\">\n",
       "  <thead>\n",
       "    <tr style=\"text-align: right;\">\n",
       "      <th></th>\n",
       "      <th>Property</th>\n",
       "      <th>Locality</th>\n",
       "      <th>Price</th>\n",
       "      <th>Area(Sq.ft)</th>\n",
       "      <th>Status</th>\n",
       "      <th>Details</th>\n",
       "    </tr>\n",
       "  </thead>\n",
       "  <tbody>\n",
       "    <tr>\n",
       "      <th>0</th>\n",
       "      <td>5 BHK Apartment in Keya Life By The Lake</td>\n",
       "      <td>Jakkur, Bangalore</td>\n",
       "      <td>52900000.0</td>\n",
       "      <td>4520</td>\n",
       "      <td>Ready to move Construction Status</td>\n",
       "      <td>2 - 3 years oldNew</td>\n",
       "    </tr>\n",
       "    <tr>\n",
       "      <th>1</th>\n",
       "      <td>2 BHK Apartment in Mantri Serenity</td>\n",
       "      <td>Subramanyapura, Bangalore</td>\n",
       "      <td>9493000.0</td>\n",
       "      <td>1040</td>\n",
       "      <td>Ready to move Construction Status</td>\n",
       "      <td>2 - 3 years oldNew</td>\n",
       "    </tr>\n",
       "    <tr>\n",
       "      <th>2</th>\n",
       "      <td>Residential Plot in Vinyasa Greenland</td>\n",
       "      <td>Bidadi, Bangalore</td>\n",
       "      <td>2863000.0</td>\n",
       "      <td>1146</td>\n",
       "      <td>New New/Resale</td>\n",
       "      <td>0 - 1 year old</td>\n",
       "    </tr>\n",
       "    <tr>\n",
       "      <th>3</th>\n",
       "      <td>2 BHK Apartment in Ma Sarada Upavan</td>\n",
       "      <td>Bommasandra, Bangalore</td>\n",
       "      <td>6393000.0</td>\n",
       "      <td>870</td>\n",
       "      <td>Under Construction Construction Status</td>\n",
       "      <td>Possession by Aug 2024New</td>\n",
       "    </tr>\n",
       "    <tr>\n",
       "      <th>4</th>\n",
       "      <td>2 BHK Apartment in Elegant Tranquility</td>\n",
       "      <td>Rajarajeshwari Nagar, Bangalore</td>\n",
       "      <td>9521000.0</td>\n",
       "      <td>1045</td>\n",
       "      <td>Under Construction Construction Status</td>\n",
       "      <td>Possession by Jul 2025New</td>\n",
       "    </tr>\n",
       "  </tbody>\n",
       "</table>\n",
       "</div>"
      ],
      "text/plain": [
       "                                   Property                         Locality  \\\n",
       "0  5 BHK Apartment in Keya Life By The Lake                Jakkur, Bangalore   \n",
       "1        2 BHK Apartment in Mantri Serenity        Subramanyapura, Bangalore   \n",
       "2     Residential Plot in Vinyasa Greenland                Bidadi, Bangalore   \n",
       "3       2 BHK Apartment in Ma Sarada Upavan           Bommasandra, Bangalore   \n",
       "4    2 BHK Apartment in Elegant Tranquility  Rajarajeshwari Nagar, Bangalore   \n",
       "\n",
       "        Price  Area(Sq.ft)                                  Status  \\\n",
       "0  52900000.0         4520       Ready to move Construction Status   \n",
       "1   9493000.0         1040       Ready to move Construction Status   \n",
       "2   2863000.0         1146                          New New/Resale   \n",
       "3   6393000.0          870  Under Construction Construction Status   \n",
       "4   9521000.0         1045  Under Construction Construction Status   \n",
       "\n",
       "                     Details  \n",
       "0         2 - 3 years oldNew  \n",
       "1         2 - 3 years oldNew  \n",
       "2             0 - 1 year old  \n",
       "3  Possession by Aug 2024New  \n",
       "4  Possession by Jul 2025New  "
      ]
     },
     "execution_count": 30,
     "metadata": {},
     "output_type": "execute_result"
    }
   ],
   "source": [
    "df.head()"
   ]
  },
  {
   "cell_type": "code",
   "execution_count": 31,
   "metadata": {},
   "outputs": [],
   "source": [
    "df[\"Status\"]=df[\"Status\"].str.replace('Construction Status','')"
   ]
  },
  {
   "cell_type": "code",
   "execution_count": 32,
   "metadata": {},
   "outputs": [
    {
     "data": {
      "text/plain": [
       "array(['Ready to move ', 'New ', 'Under Construction ', 'Resale '],\n",
       "      dtype=object)"
      ]
     },
     "execution_count": 32,
     "metadata": {},
     "output_type": "execute_result"
    }
   ],
   "source": [
    "df[\"Status\"]=df[\"Status\"].str.replace('New/Resale','')\n",
    "df[\"Status\"].unique()\n"
   ]
  },
  {
   "cell_type": "code",
   "execution_count": 33,
   "metadata": {},
   "outputs": [
    {
     "data": {
      "text/plain": [
       "array(['Ready to move', 'New', 'Under Construction', 'Resale'],\n",
       "      dtype=object)"
      ]
     },
     "execution_count": 33,
     "metadata": {},
     "output_type": "execute_result"
    }
   ],
   "source": [
    "df[\"Status\"]=df[\"Status\"].str.rstrip()\n",
    "df[\"Status\"].unique()"
   ]
  },
  {
   "cell_type": "code",
   "execution_count": 34,
   "metadata": {},
   "outputs": [
    {
     "data": {
      "text/html": [
       "<div>\n",
       "<style scoped>\n",
       "    .dataframe tbody tr th:only-of-type {\n",
       "        vertical-align: middle;\n",
       "    }\n",
       "\n",
       "    .dataframe tbody tr th {\n",
       "        vertical-align: top;\n",
       "    }\n",
       "\n",
       "    .dataframe thead th {\n",
       "        text-align: right;\n",
       "    }\n",
       "</style>\n",
       "<table border=\"1\" class=\"dataframe\">\n",
       "  <thead>\n",
       "    <tr style=\"text-align: right;\">\n",
       "      <th></th>\n",
       "      <th>Property</th>\n",
       "      <th>Locality</th>\n",
       "      <th>Price</th>\n",
       "      <th>Area(Sq.ft)</th>\n",
       "      <th>Status</th>\n",
       "      <th>Details</th>\n",
       "    </tr>\n",
       "  </thead>\n",
       "  <tbody>\n",
       "    <tr>\n",
       "      <th>0</th>\n",
       "      <td>5 BHK Apartment in Keya Life By The Lake</td>\n",
       "      <td>Jakkur, Bangalore</td>\n",
       "      <td>52900000.0</td>\n",
       "      <td>4520</td>\n",
       "      <td>Ready to move</td>\n",
       "      <td>2 - 3 years oldNew</td>\n",
       "    </tr>\n",
       "    <tr>\n",
       "      <th>1</th>\n",
       "      <td>2 BHK Apartment in Mantri Serenity</td>\n",
       "      <td>Subramanyapura, Bangalore</td>\n",
       "      <td>9493000.0</td>\n",
       "      <td>1040</td>\n",
       "      <td>Ready to move</td>\n",
       "      <td>2 - 3 years oldNew</td>\n",
       "    </tr>\n",
       "    <tr>\n",
       "      <th>2</th>\n",
       "      <td>Residential Plot in Vinyasa Greenland</td>\n",
       "      <td>Bidadi, Bangalore</td>\n",
       "      <td>2863000.0</td>\n",
       "      <td>1146</td>\n",
       "      <td>New</td>\n",
       "      <td>0 - 1 year old</td>\n",
       "    </tr>\n",
       "    <tr>\n",
       "      <th>3</th>\n",
       "      <td>2 BHK Apartment in Ma Sarada Upavan</td>\n",
       "      <td>Bommasandra, Bangalore</td>\n",
       "      <td>6393000.0</td>\n",
       "      <td>870</td>\n",
       "      <td>Under Construction</td>\n",
       "      <td>Possession by Aug 2024New</td>\n",
       "    </tr>\n",
       "    <tr>\n",
       "      <th>4</th>\n",
       "      <td>2 BHK Apartment in Elegant Tranquility</td>\n",
       "      <td>Rajarajeshwari Nagar, Bangalore</td>\n",
       "      <td>9521000.0</td>\n",
       "      <td>1045</td>\n",
       "      <td>Under Construction</td>\n",
       "      <td>Possession by Jul 2025New</td>\n",
       "    </tr>\n",
       "  </tbody>\n",
       "</table>\n",
       "</div>"
      ],
      "text/plain": [
       "                                   Property                         Locality  \\\n",
       "0  5 BHK Apartment in Keya Life By The Lake                Jakkur, Bangalore   \n",
       "1        2 BHK Apartment in Mantri Serenity        Subramanyapura, Bangalore   \n",
       "2     Residential Plot in Vinyasa Greenland                Bidadi, Bangalore   \n",
       "3       2 BHK Apartment in Ma Sarada Upavan           Bommasandra, Bangalore   \n",
       "4    2 BHK Apartment in Elegant Tranquility  Rajarajeshwari Nagar, Bangalore   \n",
       "\n",
       "        Price  Area(Sq.ft)              Status                    Details  \n",
       "0  52900000.0         4520       Ready to move         2 - 3 years oldNew  \n",
       "1   9493000.0         1040       Ready to move         2 - 3 years oldNew  \n",
       "2   2863000.0         1146                 New             0 - 1 year old  \n",
       "3   6393000.0          870  Under Construction  Possession by Aug 2024New  \n",
       "4   9521000.0         1045  Under Construction  Possession by Jul 2025New  "
      ]
     },
     "execution_count": 34,
     "metadata": {},
     "output_type": "execute_result"
    }
   ],
   "source": [
    "df.head()"
   ]
  },
  {
   "cell_type": "code",
   "execution_count": 35,
   "metadata": {},
   "outputs": [
    {
     "name": "stdout",
     "output_type": "stream",
     "text": [
      "<class 'pandas.core.frame.DataFrame'>\n",
      "Index: 24760 entries, 0 to 659\n",
      "Data columns (total 6 columns):\n",
      " #   Column       Non-Null Count  Dtype  \n",
      "---  ------       --------------  -----  \n",
      " 0   Property     24760 non-null  object \n",
      " 1   Locality     24760 non-null  object \n",
      " 2   Price        24760 non-null  float64\n",
      " 3   Area(Sq.ft)  24760 non-null  int64  \n",
      " 4   Status       24760 non-null  object \n",
      " 5   Details      24621 non-null  object \n",
      "dtypes: float64(1), int64(1), object(4)\n",
      "memory usage: 1.3+ MB\n"
     ]
    }
   ],
   "source": [
    "df.info()"
   ]
  },
  {
   "cell_type": "code",
   "execution_count": 36,
   "metadata": {},
   "outputs": [],
   "source": [
    "df.to_csv(\"cleaned_makan_data.csv\")"
   ]
  }
 ],
 "metadata": {
  "kernelspec": {
   "display_name": "Python 3",
   "language": "python",
   "name": "python3"
  },
  "language_info": {
   "codemirror_mode": {
    "name": "ipython",
    "version": 3
   },
   "file_extension": ".py",
   "mimetype": "text/x-python",
   "name": "python",
   "nbconvert_exporter": "python",
   "pygments_lexer": "ipython3",
   "version": "3.12.3"
  }
 },
 "nbformat": 4,
 "nbformat_minor": 2
}
